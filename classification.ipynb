{
  "nbformat": 4,
  "nbformat_minor": 0,
  "metadata": {
    "colab": {
      "name": "Untitled0.ipynb",
      "provenance": [],
      "collapsed_sections": [],
      "mount_file_id": "1LAbJX7-S9T0WjyyCJGOAvECP-xW6hfgw",
      "authorship_tag": "ABX9TyMG5+l68WqbkG2+9bOdrHT5",
      "include_colab_link": true
    },
    "kernelspec": {
      "name": "python3",
      "display_name": "Python 3"
    },
    "language_info": {
      "name": "python"
    },
    "widgets": {
      "application/vnd.jupyter.widget-state+json": {
        "0da3cd57992e4a568f40705f361a1a7d": {
          "model_module": "@jupyter-widgets/controls",
          "model_name": "HBoxModel",
          "model_module_version": "1.5.0",
          "state": {
            "_view_name": "HBoxView",
            "_dom_classes": [],
            "_model_name": "HBoxModel",
            "_view_module": "@jupyter-widgets/controls",
            "_model_module_version": "1.5.0",
            "_view_count": null,
            "_view_module_version": "1.5.0",
            "box_style": "",
            "layout": "IPY_MODEL_fffd159a4b6e4737a69d24ebf40b95c1",
            "_model_module": "@jupyter-widgets/controls",
            "children": [
              "IPY_MODEL_f0cdae2941e840f391d12438b6e43587",
              "IPY_MODEL_89c660ac34c54bc59cb6eacf9a652126",
              "IPY_MODEL_ffb07e314a2d45fc875fde8d7f6367b4"
            ]
          }
        },
        "fffd159a4b6e4737a69d24ebf40b95c1": {
          "model_module": "@jupyter-widgets/base",
          "model_name": "LayoutModel",
          "model_module_version": "1.2.0",
          "state": {
            "_view_name": "LayoutView",
            "grid_template_rows": null,
            "right": null,
            "justify_content": null,
            "_view_module": "@jupyter-widgets/base",
            "overflow": null,
            "_model_module_version": "1.2.0",
            "_view_count": null,
            "flex_flow": null,
            "width": null,
            "min_width": null,
            "border": null,
            "align_items": null,
            "bottom": null,
            "_model_module": "@jupyter-widgets/base",
            "top": null,
            "grid_column": null,
            "overflow_y": null,
            "overflow_x": null,
            "grid_auto_flow": null,
            "grid_area": null,
            "grid_template_columns": null,
            "flex": null,
            "_model_name": "LayoutModel",
            "justify_items": null,
            "grid_row": null,
            "max_height": null,
            "align_content": null,
            "visibility": null,
            "align_self": null,
            "height": null,
            "min_height": null,
            "padding": null,
            "grid_auto_rows": null,
            "grid_gap": null,
            "max_width": null,
            "order": null,
            "_view_module_version": "1.2.0",
            "grid_template_areas": null,
            "object_position": null,
            "object_fit": null,
            "grid_auto_columns": null,
            "margin": null,
            "display": null,
            "left": null
          }
        },
        "f0cdae2941e840f391d12438b6e43587": {
          "model_module": "@jupyter-widgets/controls",
          "model_name": "HTMLModel",
          "model_module_version": "1.5.0",
          "state": {
            "_view_name": "HTMLView",
            "style": "IPY_MODEL_aed2fa6184e94c2caf228a874b166ead",
            "_dom_classes": [],
            "description": "",
            "_model_name": "HTMLModel",
            "placeholder": "​",
            "_view_module": "@jupyter-widgets/controls",
            "_model_module_version": "1.5.0",
            "value": "100%",
            "_view_count": null,
            "_view_module_version": "1.5.0",
            "description_tooltip": null,
            "_model_module": "@jupyter-widgets/controls",
            "layout": "IPY_MODEL_0b09d72e0b1342d6869defbba33af97e"
          }
        },
        "89c660ac34c54bc59cb6eacf9a652126": {
          "model_module": "@jupyter-widgets/controls",
          "model_name": "FloatProgressModel",
          "model_module_version": "1.5.0",
          "state": {
            "_view_name": "ProgressView",
            "style": "IPY_MODEL_1a1012f6a1c0465cb78f065e174890ab",
            "_dom_classes": [],
            "description": "",
            "_model_name": "FloatProgressModel",
            "bar_style": "success",
            "max": 10222,
            "_view_module": "@jupyter-widgets/controls",
            "_model_module_version": "1.5.0",
            "value": 10222,
            "_view_count": null,
            "_view_module_version": "1.5.0",
            "orientation": "horizontal",
            "min": 0,
            "description_tooltip": null,
            "_model_module": "@jupyter-widgets/controls",
            "layout": "IPY_MODEL_8931af1e45194a2189bb69034017cb77"
          }
        },
        "ffb07e314a2d45fc875fde8d7f6367b4": {
          "model_module": "@jupyter-widgets/controls",
          "model_name": "HTMLModel",
          "model_module_version": "1.5.0",
          "state": {
            "_view_name": "HTMLView",
            "style": "IPY_MODEL_6799981332e0492a91892e6f750df146",
            "_dom_classes": [],
            "description": "",
            "_model_name": "HTMLModel",
            "placeholder": "​",
            "_view_module": "@jupyter-widgets/controls",
            "_model_module_version": "1.5.0",
            "value": " 10222/10222 [51:46&lt;00:00,  4.53it/s]",
            "_view_count": null,
            "_view_module_version": "1.5.0",
            "description_tooltip": null,
            "_model_module": "@jupyter-widgets/controls",
            "layout": "IPY_MODEL_dc94a8bcc2ad46e6b40d2a751cdaeade"
          }
        },
        "aed2fa6184e94c2caf228a874b166ead": {
          "model_module": "@jupyter-widgets/controls",
          "model_name": "DescriptionStyleModel",
          "model_module_version": "1.5.0",
          "state": {
            "_view_name": "StyleView",
            "_model_name": "DescriptionStyleModel",
            "description_width": "",
            "_view_module": "@jupyter-widgets/base",
            "_model_module_version": "1.5.0",
            "_view_count": null,
            "_view_module_version": "1.2.0",
            "_model_module": "@jupyter-widgets/controls"
          }
        },
        "0b09d72e0b1342d6869defbba33af97e": {
          "model_module": "@jupyter-widgets/base",
          "model_name": "LayoutModel",
          "model_module_version": "1.2.0",
          "state": {
            "_view_name": "LayoutView",
            "grid_template_rows": null,
            "right": null,
            "justify_content": null,
            "_view_module": "@jupyter-widgets/base",
            "overflow": null,
            "_model_module_version": "1.2.0",
            "_view_count": null,
            "flex_flow": null,
            "width": null,
            "min_width": null,
            "border": null,
            "align_items": null,
            "bottom": null,
            "_model_module": "@jupyter-widgets/base",
            "top": null,
            "grid_column": null,
            "overflow_y": null,
            "overflow_x": null,
            "grid_auto_flow": null,
            "grid_area": null,
            "grid_template_columns": null,
            "flex": null,
            "_model_name": "LayoutModel",
            "justify_items": null,
            "grid_row": null,
            "max_height": null,
            "align_content": null,
            "visibility": null,
            "align_self": null,
            "height": null,
            "min_height": null,
            "padding": null,
            "grid_auto_rows": null,
            "grid_gap": null,
            "max_width": null,
            "order": null,
            "_view_module_version": "1.2.0",
            "grid_template_areas": null,
            "object_position": null,
            "object_fit": null,
            "grid_auto_columns": null,
            "margin": null,
            "display": null,
            "left": null
          }
        },
        "1a1012f6a1c0465cb78f065e174890ab": {
          "model_module": "@jupyter-widgets/controls",
          "model_name": "ProgressStyleModel",
          "model_module_version": "1.5.0",
          "state": {
            "_view_name": "StyleView",
            "_model_name": "ProgressStyleModel",
            "description_width": "",
            "_view_module": "@jupyter-widgets/base",
            "_model_module_version": "1.5.0",
            "_view_count": null,
            "_view_module_version": "1.2.0",
            "bar_color": null,
            "_model_module": "@jupyter-widgets/controls"
          }
        },
        "8931af1e45194a2189bb69034017cb77": {
          "model_module": "@jupyter-widgets/base",
          "model_name": "LayoutModel",
          "model_module_version": "1.2.0",
          "state": {
            "_view_name": "LayoutView",
            "grid_template_rows": null,
            "right": null,
            "justify_content": null,
            "_view_module": "@jupyter-widgets/base",
            "overflow": null,
            "_model_module_version": "1.2.0",
            "_view_count": null,
            "flex_flow": null,
            "width": null,
            "min_width": null,
            "border": null,
            "align_items": null,
            "bottom": null,
            "_model_module": "@jupyter-widgets/base",
            "top": null,
            "grid_column": null,
            "overflow_y": null,
            "overflow_x": null,
            "grid_auto_flow": null,
            "grid_area": null,
            "grid_template_columns": null,
            "flex": null,
            "_model_name": "LayoutModel",
            "justify_items": null,
            "grid_row": null,
            "max_height": null,
            "align_content": null,
            "visibility": null,
            "align_self": null,
            "height": null,
            "min_height": null,
            "padding": null,
            "grid_auto_rows": null,
            "grid_gap": null,
            "max_width": null,
            "order": null,
            "_view_module_version": "1.2.0",
            "grid_template_areas": null,
            "object_position": null,
            "object_fit": null,
            "grid_auto_columns": null,
            "margin": null,
            "display": null,
            "left": null
          }
        },
        "6799981332e0492a91892e6f750df146": {
          "model_module": "@jupyter-widgets/controls",
          "model_name": "DescriptionStyleModel",
          "model_module_version": "1.5.0",
          "state": {
            "_view_name": "StyleView",
            "_model_name": "DescriptionStyleModel",
            "description_width": "",
            "_view_module": "@jupyter-widgets/base",
            "_model_module_version": "1.5.0",
            "_view_count": null,
            "_view_module_version": "1.2.0",
            "_model_module": "@jupyter-widgets/controls"
          }
        },
        "dc94a8bcc2ad46e6b40d2a751cdaeade": {
          "model_module": "@jupyter-widgets/base",
          "model_name": "LayoutModel",
          "model_module_version": "1.2.0",
          "state": {
            "_view_name": "LayoutView",
            "grid_template_rows": null,
            "right": null,
            "justify_content": null,
            "_view_module": "@jupyter-widgets/base",
            "overflow": null,
            "_model_module_version": "1.2.0",
            "_view_count": null,
            "flex_flow": null,
            "width": null,
            "min_width": null,
            "border": null,
            "align_items": null,
            "bottom": null,
            "_model_module": "@jupyter-widgets/base",
            "top": null,
            "grid_column": null,
            "overflow_y": null,
            "overflow_x": null,
            "grid_auto_flow": null,
            "grid_area": null,
            "grid_template_columns": null,
            "flex": null,
            "_model_name": "LayoutModel",
            "justify_items": null,
            "grid_row": null,
            "max_height": null,
            "align_content": null,
            "visibility": null,
            "align_self": null,
            "height": null,
            "min_height": null,
            "padding": null,
            "grid_auto_rows": null,
            "grid_gap": null,
            "max_width": null,
            "order": null,
            "_view_module_version": "1.2.0",
            "grid_template_areas": null,
            "object_position": null,
            "object_fit": null,
            "grid_auto_columns": null,
            "margin": null,
            "display": null,
            "left": null
          }
        }
      }
    }
  },
  "cells": [
    {
      "cell_type": "markdown",
      "metadata": {
        "id": "view-in-github",
        "colab_type": "text"
      },
      "source": [
        "<a href=\"https://colab.research.google.com/github/VladimirFilipovic/pppo/blob/main/classification.ipynb\" target=\"_parent\"><img src=\"https://colab.research.google.com/assets/colab-badge.svg\" alt=\"Open In Colab\"/></a>"
      ]
    },
    {
      "cell_type": "code",
      "metadata": {
        "id": "KPWYLhSQNVOv"
      },
      "source": [
        "#importujemo potrebne biblioteke\n",
        "import matplotlib.pyplot as plt\n",
        "import seaborn as sns\n",
        "\n",
        "import os\n",
        "import gc\n",
        "\n",
        "from sklearn.model_selection import train_test_split\n",
        "\n",
        "import tensorflow as tf\n",
        "from tqdm.autonotebook import tqdm\n",
        "\n",
        "import numpy as np \n",
        "import pandas as pd \n",
        "\n",
        "from IPython.display import display, Image\n",
        "\n",
        "from tensorflow.keras import Sequential\n",
        "from tensorflow.keras.callbacks import EarlyStopping\n",
        "from tensorflow.keras.optimizers import Adam \n",
        "from tensorflow.keras.optimizers import SGD\n",
        "from tensorflow.keras.callbacks import ModelCheckpoint\n",
        "from tensorflow.keras.callbacks import ReduceLROnPlateau\n",
        "from tensorflow.keras.layers import Flatten,Dense,BatchNormalization,Activation,Dropout\n",
        "from tensorflow.keras.layers import Lambda, Input, GlobalAveragePooling2D,BatchNormalization\n",
        "from tensorflow.keras.utils import to_categorical\n",
        "from tensorflow.keras.models import Model\n",
        "from tensorflow.keras.preprocessing.image import load_img"
      ],
      "execution_count": null,
      "outputs": []
    },
    {
      "cell_type": "markdown",
      "metadata": {
        "id": "gWyHlyACgvfa"
      },
      "source": [
        "## Sadržaj\n",
        "\n",
        "1. Uvod\n",
        "2. Opis podataka\n",
        "4. Proces treniranja i izabrani prilaz \n",
        "5. Obučavanje klasifikacionog modela\n",
        "5. Zaključak\n",
        "6. Literatura"
      ]
    },
    {
      "cell_type": "markdown",
      "metadata": {
        "id": "oYbL_pgaguWE"
      },
      "source": [
        "\n",
        "\n",
        "###**Uvod**\n",
        "\n",
        "Klasifikacija fotografija predstavlja nadgledani zadatak mašinskog učenja,\n",
        "koji se odnosi na proces dodeljivanja oznake ulaznoj fotografiji iz skupa oznaka (klasa) na osnovu odredjenih atributa.\n",
        "Postoje četiri osnovne vrste klasifikacije:\n",
        "\n",
        "*   **Binary classification**- zadaci klasifikacije kod kojih se skup mogucih klasa sastoji od dve klase\n",
        "*   **Multi-class classification** - zadaci klasifikacije u kojima postoji više mogućih klasa \n",
        "*   **Multi-label classification** - zadaci klasifikacije u kojima postoji više klasa od kojih jedna ili više njih mogu da budu dodeljeni instanci\n",
        "*   **Imbalanced classificaton** - odnosi se na klasifikacione zadatke nad setom podataka u kom vecina instanci pripadaju malom podskupu svih klasa\n",
        "\n",
        "Odradjeni zadatak se sastoji iz odredjivanja rase pasa na osnovu zadatih slika.\n",
        "\n",
        "###**Opis podataka**\n",
        "Set podataka se sastoji od ~10000 slika koje trebaju biti svrstane u jednu od 120 mogucih klasa.\n",
        "\n",
        "Fajl labels.csv sadrzi dve kolone jedna predstavlja naziv slike a druga rasu pasa kojoj pas sa te slike pripada."
      ]
    },
    {
      "cell_type": "code",
      "metadata": {
        "colab": {
          "base_uri": "https://localhost:8080/",
          "height": 173
        },
        "id": "VW0dFaryarq3",
        "outputId": "0f067dd4-2f74-44fd-f1ee-5f2f4a03340e"
      },
      "source": [
        "#generalne informacije o klasama\n",
        "labels = pd.read_csv('/content/drive/MyDrive/PPPO/labels.csv')\n",
        "labels.head()\n",
        "labels.describe()"
      ],
      "execution_count": null,
      "outputs": [
        {
          "output_type": "execute_result",
          "data": {
            "text/html": [
              "<div>\n",
              "<style scoped>\n",
              "    .dataframe tbody tr th:only-of-type {\n",
              "        vertical-align: middle;\n",
              "    }\n",
              "\n",
              "    .dataframe tbody tr th {\n",
              "        vertical-align: top;\n",
              "    }\n",
              "\n",
              "    .dataframe thead th {\n",
              "        text-align: right;\n",
              "    }\n",
              "</style>\n",
              "<table border=\"1\" class=\"dataframe\">\n",
              "  <thead>\n",
              "    <tr style=\"text-align: right;\">\n",
              "      <th></th>\n",
              "      <th>id</th>\n",
              "      <th>breed</th>\n",
              "    </tr>\n",
              "  </thead>\n",
              "  <tbody>\n",
              "    <tr>\n",
              "      <th>count</th>\n",
              "      <td>10222</td>\n",
              "      <td>10222</td>\n",
              "    </tr>\n",
              "    <tr>\n",
              "      <th>unique</th>\n",
              "      <td>10222</td>\n",
              "      <td>120</td>\n",
              "    </tr>\n",
              "    <tr>\n",
              "      <th>top</th>\n",
              "      <td>51c0c9e80619fed2bd743867c1a1b0b0</td>\n",
              "      <td>scottish_deerhound</td>\n",
              "    </tr>\n",
              "    <tr>\n",
              "      <th>freq</th>\n",
              "      <td>1</td>\n",
              "      <td>126</td>\n",
              "    </tr>\n",
              "  </tbody>\n",
              "</table>\n",
              "</div>"
            ],
            "text/plain": [
              "                                      id               breed\n",
              "count                              10222               10222\n",
              "unique                             10222                 120\n",
              "top     51c0c9e80619fed2bd743867c1a1b0b0  scottish_deerhound\n",
              "freq                                   1                 126"
            ]
          },
          "metadata": {},
          "execution_count": 25
        }
      ]
    },
    {
      "cell_type": "markdown",
      "metadata": {
        "id": "kZK92Kxjt-eP"
      },
      "source": [
        ""
      ]
    },
    {
      "cell_type": "code",
      "metadata": {
        "colab": {
          "base_uri": "https://localhost:8080/",
          "height": 392
        },
        "id": "bFzHSsQx_qu6",
        "outputId": "ce739b56-26c1-492c-e356-59c038af7c18"
      },
      "source": [
        "#primer jedne slike iz seta podataka\n",
        "Image(\"../content/drive/MyDrive/PPPO/train/185dd9ac0589562442f553cf686783d4.jpg\")"
      ],
      "execution_count": null,
      "outputs": [
        {
          "output_type": "execute_result",
          "data": {
            "image/jpeg": "[encoded data removed]",
            "text/plain": [
              "<IPython.core.display.Image object>"
            ]
          },
          "metadata": {},
          "execution_count": 26
        }
      ]
    },
    {
      "cell_type": "markdown",
      "metadata": {
        "id": "WLfBe3ev_vwT"
      },
      "source": [
        "###**Proces treniranja i izabrani prilaz**\n",
        "Konvoluciona neuralna mreza je jedan on modela masinskog ucenja za klasifikaciju slika, ali u ovom slucaju, nemamo dovoljno slika da je na adekvatan nacin istreniramo. Najverovatniji scenario jeste da ce model overfit-vati trening set i njegova preciznost na testnom setu ce biti niska.\n",
        "Stoga ce u zadataku biti koriscen prilaz poznat kao *transfer learning*\n",
        "\n",
        "Transfer learning podrazumeva preuzimanje prethodno istreniraniranih modela i njihovu primenu nad novim setom podataka. U izradi ovog zadatka su korisceni:\n",
        "\n",
        "\n",
        "*   **InceptionV3**\n",
        "*   **InceptionResNetV2**\n",
        "\n",
        "###**Predprocesuiranje podataka**\n",
        "Podatke je pre koriscenja potrebno kodirati na nacin koji zahteva model koji se korsiti. U ovom slucaju je izvrsen *One Hot Encoding* gde je svaka fotografija  preslikana u binarni vektor.\n",
        "\n",
        "\n"
      ]
    },
    {
      "cell_type": "code",
      "metadata": {
        "colab": {
          "base_uri": "https://localhost:8080/"
        },
        "id": "q0n6l4iLcaQY",
        "outputId": "f92cb666-bbaf-4090-ae30-70eae414ebb4"
      },
      "source": [
        "#kreiramo listu klasa\n",
        "classes = sorted(list(set(labels['breed'])))\n",
        "n_classes = len(classes)\n",
        "print('Ukuno razlicitih rasa {}'.format(n_classes))\n",
        "\n",
        "class_to_num = dict(zip(classes, range(n_classes)))\n",
        "class_to_num\n",
        "\n",
        "\n",
        "#kreiramo niz  \n",
        "input_shape = (331,331,3)\n",
        "def images_to_array(directory, label_dataframe, target_size = input_shape):\n",
        "    \n",
        "    image_labels = label_dataframe['breed']\n",
        "    images = np.zeros([len(label_dataframe), target_size[0], target_size[1], target_size[2]],dtype=np.uint8) \n",
        "    y = np.zeros([len(label_dataframe),1],dtype = np.uint8)\n",
        "    \n",
        "    for ix, image_name in enumerate(tqdm(label_dataframe['id'].values)):\n",
        "        img_dir = os.path.join(directory, image_name + '.jpg')\n",
        "        img = load_img(img_dir, target_size = target_size)\n",
        "        images[ix]=img\n",
        "        del img\n",
        "        \n",
        "        dog_breed = image_labels[ix]\n",
        "        y[ix] = class_to_num[dog_breed]\n",
        "    \n",
        "    y = to_categorical(y)\n",
        "    \n",
        "    return images,y"
      ],
      "execution_count": null,
      "outputs": [
        {
          "output_type": "stream",
          "text": [
            "Ukuno razlicitih rasa 120\n"
          ],
          "name": "stdout"
        }
      ]
    },
    {
      "cell_type": "code",
      "metadata": {
        "colab": {
          "base_uri": "https://localhost:8080/",
          "height": 66,
          "referenced_widgets": [
            "0da3cd57992e4a568f40705f361a1a7d",
            "fffd159a4b6e4737a69d24ebf40b95c1",
            "f0cdae2941e840f391d12438b6e43587",
            "89c660ac34c54bc59cb6eacf9a652126",
            "ffb07e314a2d45fc875fde8d7f6367b4",
            "aed2fa6184e94c2caf228a874b166ead",
            "0b09d72e0b1342d6869defbba33af97e",
            "1a1012f6a1c0465cb78f065e174890ab",
            "8931af1e45194a2189bb69034017cb77",
            "6799981332e0492a91892e6f750df146",
            "dc94a8bcc2ad46e6b40d2a751cdaeade"
          ]
        },
        "id": "2Gf7IoGLrKoy",
        "outputId": "d31a7a10-ea63-4b6f-a5f0-fe238ba27275"
      },
      "source": [
        "import time \n",
        "t = time.time()\n",
        "\n",
        "X,y = images_to_array('/content/drive/MyDrive/PPPO/train', labels[:])\n",
        "\n",
        "print('runtime in seconds: {}'.format(time.time() - t))"
      ],
      "execution_count": null,
      "outputs": [
        {
          "output_type": "display_data",
          "data": {
            "application/vnd.jupyter.widget-view+json": {
              "model_id": "0da3cd57992e4a568f40705f361a1a7d",
              "version_minor": 0,
              "version_major": 2
            },
            "text/plain": [
              "  0%|          | 0/10222 [00:00<?, ?it/s]"
            ]
          },
          "metadata": {}
        },
        {
          "output_type": "stream",
          "text": [
            "runtime in seconds: 3108.5255613327026\n"
          ],
          "name": "stdout"
        }
      ]
    },
    {
      "cell_type": "code",
      "metadata": {
        "id": "HPcN7QPR_GDs"
      },
      "source": [
        "print(X)"
      ],
      "execution_count": null,
      "outputs": []
    },
    {
      "cell_type": "markdown",
      "metadata": {
        "id": "Kyvk2MNxHzyA"
      },
      "source": [
        "#####**Optimizacija hiperparametara i optimizacioni algoritmi**\n",
        "\n",
        "\n",
        "Performanse modela značajno mogu da budu poboljšane za različite vrednosti parametara modela. Ovi parametri se nazivaju hiperparametri, jer predstavljaju parametre modela koji se ne uče, već se određuju prilikom izgradnje modela pre same faze treniranja (C, kernel, gamma).\n",
        "\n",
        "Optimizacija hiperparametara je problem odabira optimalnih vrednosti hiperparametara modela. Vrednosti ovih parametara kontrolišu učenje modela i potrebno je podesiti ih kako bi model optimalno rešavao postavljen zadatak.\n",
        "\n",
        "Korisceni optimizacioni algoritmi su:\n",
        "\n",
        "*   **Adam** - Najkorisceniji algoritam za obucavanje neuronskih mreza (eng. adaptive moment estimation). Zasniva se na ocenama prvog i drugog momenta\n",
        "gradijenata\n",
        "*   **SGD**\n",
        "\n"
      ]
    },
    {
      "cell_type": "code",
      "metadata": {
        "colab": {
          "base_uri": "https://localhost:8080/"
        },
        "id": "ONyTtsrUrhjZ",
        "outputId": "540f59be-2d8c-487e-9678-88baa463a0d1"
      },
      "source": [
        "#ukoliko se preciznost modela ne povecava smanjujemo learning rate za .01\n",
        "lrr= ReduceLROnPlateau(monitor='val_acc', factor=.01, patience=3, min_lr=1e-5,verbose = 1)\n",
        "\n",
        "#ukoliko se model ne poboljsava prekidamo treniranje\n",
        "EarlyStop = EarlyStopping(monitor='val_loss', patience=10, restore_best_weights=True)\n",
        "\n",
        "#cuvamo najbolji model \n",
        "checkpointer=ModelCheckpoint(filepath='model1.hdf5',verbose=1,save_best_only=True)\n",
        "\n",
        "#hiperparametri\n",
        "batch_size= 128\n",
        "epochs=20\n",
        "learn_rate=.001\n",
        "sgd=SGD(lr=learn_rate,momentum=.9,nesterov=False)\n",
        "adam=Adam(lr=learn_rate, beta_1=0.9, beta_2=0.999, epsilon=None,  amsgrad=False)"
      ],
      "execution_count": null,
      "outputs": [
        {
          "output_type": "stream",
          "text": [
            "/usr/local/lib/python3.7/dist-packages/keras/optimizer_v2/optimizer_v2.py:356: UserWarning: The `lr` argument is deprecated, use `learning_rate` instead.\n",
            "  \"The `lr` argument is deprecated, use `learning_rate` instead.\")\n"
          ],
          "name": "stderr"
        }
      ]
    },
    {
      "cell_type": "code",
      "metadata": {
        "id": "vX1GFZ06t6wN"
      },
      "source": [
        "#funkcija za ekstrahovanje feature-a iz data seta sa prosledjenim modelom\n",
        "img_size = (331,331,3)\n",
        "\n",
        "def get_features(model_name, model_preprocessor, input_size, data):\n",
        " \n",
        "    input_layer = Input(input_size)\n",
        "    preprocessor = Lambda(model_preprocessor)(input_layer)\n",
        "    base_model = model_name(weights='imagenet', include_top=False,\n",
        "                            input_shape=input_size)(preprocessor)\n",
        "    avg = GlobalAveragePooling2D()(base_model)\n",
        "    feature_extractor = Model(inputs = input_layer, outputs = avg)\n",
        "    \n",
        "    #ekstrahovanje feature-a\n",
        "    feature_maps = feature_extractor.predict(data, verbose=1)\n",
        "    print('Oblik feature-a: ', feature_maps.shape)\n",
        "    return feature_maps"
      ],
      "execution_count": null,
      "outputs": []
    },
    {
      "cell_type": "code",
      "metadata": {
        "colab": {
          "base_uri": "https://localhost:8080/"
        },
        "id": "ajFiCzyiw5X3",
        "outputId": "d8581910-8734-4208-cc47-2c489cc73ade"
      },
      "source": [
        "from keras.applications.inception_v3 import InceptionV3, preprocess_input\n",
        "inception_preprocessor = preprocess_input\n",
        "inception_features = get_features(InceptionV3,\n",
        "                                  inception_preprocessor,\n",
        "                                  img_size, X)"
      ],
      "execution_count": null,
      "outputs": [
        {
          "output_type": "stream",
          "text": [
            "Downloading data from https://storage.googleapis.com/tensorflow/keras-applications/inception_v3/inception_v3_weights_tf_dim_ordering_tf_kernels_notop.h5\n",
            "87916544/87910968 [==============================] - 1s 0us/step\n",
            "87924736/87910968 [==============================] - 1s 0us/step\n",
            "320/320 [==============================] - 2251s 7s/step\n",
            "Feature maps shape:  (10222, 2048)\n"
          ],
          "name": "stdout"
        }
      ]
    },
    {
      "cell_type": "code",
      "metadata": {
        "id": "ZT9HFf-pw8SI",
        "colab": {
          "base_uri": "https://localhost:8080/"
        },
        "outputId": "784475ee-d975-4cb4-dca2-1b82b62c3a12"
      },
      "source": [
        "from keras.applications.inception_resnet_v2 import InceptionResNetV2, preprocess_input\n",
        "inc_resnet_preprocessor = preprocess_input\n",
        "inc_resnet_features = get_features(InceptionResNetV2,\n",
        "                                   inc_resnet_preprocessor,\n",
        "                                   img_size, X)"
      ],
      "execution_count": null,
      "outputs": [
        {
          "output_type": "stream",
          "text": [
            "Downloading data from https://storage.googleapis.com/tensorflow/keras-applications/inception_resnet_v2/inception_resnet_v2_weights_tf_dim_ordering_tf_kernels_notop.h5\n",
            "219062272/219055592 [==============================] - 4s 0us/step\n",
            "219070464/219055592 [==============================] - 4s 0us/step\n",
            "320/320 [==============================] - 5317s 17s/step\n",
            "Feature maps shape:  (10222, 1536)\n"
          ],
          "name": "stdout"
        }
      ]
    },
    {
      "cell_type": "code",
      "metadata": {
        "id": "CmsF0ifexwUk",
        "colab": {
          "base_uri": "https://localhost:8080/"
        },
        "outputId": "0fc792b5-7752-4003-8b90-de9d9bd72028"
      },
      "source": [
        "\n",
        "gc.collect()\n",
        "3584\n",
        "#Kreiranje finalnog feature vektora kombinovanjem prethodno ekstraktovanih feature-a\n",
        "\n",
        "final_features = np.concatenate([inception_features,\n",
        "                                 inc_resnet_features,], axis=-1) \n",
        "\n",
        "print('Final feature maps shape', final_features.shape)"
      ],
      "execution_count": null,
      "outputs": [
        {
          "output_type": "stream",
          "text": [
            "Final feature maps shape (10222, 3584)\n"
          ],
          "name": "stdout"
        }
      ]
    },
    {
      "cell_type": "markdown",
      "metadata": {
        "id": "nEGXd5SzdMwF"
      },
      "source": [
        "#####**Trening modela**\n",
        "\n",
        "Prilikom obučavanja modela, definiše se broj epoha, pri čemu epoha predstavlja prolazak preko celokupnog skupa trening podataka. Epoha se sastoji iz iteracija, gde broj iteracija zavisi od veličine batch-a (broj uzoraka po ažuriranju gradijenta). Nakon svake iteracije i prolaska kroz određeni broj podataka (određen veličinom batch-a), na osnovu sračunate funkcije gubitka se vrše podešavanja parametara i zatim uz pomoć validacionih podataka računa tačnost modela."
      ]
    },
    {
      "cell_type": "code",
      "metadata": {
        "id": "b7f-qAz-yNtu",
        "colab": {
          "base_uri": "https://localhost:8080/"
        },
        "outputId": "53854528-cf24-45e0-a08a-c7c168d0bc5f"
      },
      "source": [
        "model = Sequential()\n",
        "# model.add(Dense(1028,input_shape=(final_features.shape[1],)))\n",
        "model.add(Dropout(0.7,input_shape=(final_features.shape[1],)))\n",
        "model.add(Dense(n_classes,activation= 'softmax'))\n",
        "\n",
        "model.compile(optimizer=adam,\n",
        "              loss='categorical_crossentropy',\n",
        "              metrics=['accuracy'])\n",
        "\n",
        "#Treniranje modela \n",
        "history = model.fit(final_features, y,\n",
        "            batch_size=batch_size,\n",
        "            epochs=epochs,\n",
        "            validation_split=0.2,\n",
        "            callbacks=[lrr,EarlyStop,checkpointer])"
      ],
      "execution_count": null,
      "outputs": [
        {
          "output_type": "stream",
          "text": [
            "Epoch 1/20\n",
            "64/64 [==============================] - 2s 17ms/step - loss: 1.9018 - accuracy: 0.6630 - val_loss: 0.3642 - val_accuracy: 0.9203\n",
            "WARNING:tensorflow:Learning rate reduction is conditioned on metric `val_acc` which is not available. Available metrics are: loss,accuracy,val_loss,val_accuracy,lr\n",
            "\n",
            "Epoch 00001: val_loss improved from inf to 0.36415, saving model to model1.hdf5\n",
            "Epoch 2/20\n",
            "64/64 [==============================] - 1s 14ms/step - loss: 0.3331 - accuracy: 0.9162 - val_loss: 0.2508 - val_accuracy: 0.9281\n",
            "WARNING:tensorflow:Learning rate reduction is conditioned on metric `val_acc` which is not available. Available metrics are: loss,accuracy,val_loss,val_accuracy,lr\n",
            "\n",
            "Epoch 00002: val_loss improved from 0.36415 to 0.25081, saving model to model1.hdf5\n",
            "Epoch 3/20\n",
            "64/64 [==============================] - 1s 14ms/step - loss: 0.2518 - accuracy: 0.9266 - val_loss: 0.2214 - val_accuracy: 0.9296\n",
            "WARNING:tensorflow:Learning rate reduction is conditioned on metric `val_acc` which is not available. Available metrics are: loss,accuracy,val_loss,val_accuracy,lr\n",
            "\n",
            "Epoch 00003: val_loss improved from 0.25081 to 0.22145, saving model to model1.hdf5\n",
            "Epoch 4/20\n",
            "64/64 [==============================] - 1s 14ms/step - loss: 0.2089 - accuracy: 0.9374 - val_loss: 0.2131 - val_accuracy: 0.9330\n",
            "WARNING:tensorflow:Learning rate reduction is conditioned on metric `val_acc` which is not available. Available metrics are: loss,accuracy,val_loss,val_accuracy,lr\n",
            "\n",
            "Epoch 00004: val_loss improved from 0.22145 to 0.21314, saving model to model1.hdf5\n",
            "Epoch 5/20\n",
            "64/64 [==============================] - 1s 14ms/step - loss: 0.1884 - accuracy: 0.9417 - val_loss: 0.2068 - val_accuracy: 0.9335\n",
            "WARNING:tensorflow:Learning rate reduction is conditioned on metric `val_acc` which is not available. Available metrics are: loss,accuracy,val_loss,val_accuracy,lr\n",
            "\n",
            "Epoch 00005: val_loss improved from 0.21314 to 0.20679, saving model to model1.hdf5\n",
            "Epoch 6/20\n",
            "64/64 [==============================] - 1s 14ms/step - loss: 0.1662 - accuracy: 0.9500 - val_loss: 0.2011 - val_accuracy: 0.9340\n",
            "WARNING:tensorflow:Learning rate reduction is conditioned on metric `val_acc` which is not available. Available metrics are: loss,accuracy,val_loss,val_accuracy,lr\n",
            "\n",
            "Epoch 00006: val_loss improved from 0.20679 to 0.20112, saving model to model1.hdf5\n",
            "Epoch 7/20\n",
            "64/64 [==============================] - 1s 14ms/step - loss: 0.1521 - accuracy: 0.9507 - val_loss: 0.2118 - val_accuracy: 0.9281\n",
            "WARNING:tensorflow:Learning rate reduction is conditioned on metric `val_acc` which is not available. Available metrics are: loss,accuracy,val_loss,val_accuracy,lr\n",
            "\n",
            "Epoch 00007: val_loss did not improve from 0.20112\n",
            "Epoch 8/20\n",
            "64/64 [==============================] - 1s 14ms/step - loss: 0.1414 - accuracy: 0.9578 - val_loss: 0.2000 - val_accuracy: 0.9320\n",
            "WARNING:tensorflow:Learning rate reduction is conditioned on metric `val_acc` which is not available. Available metrics are: loss,accuracy,val_loss,val_accuracy,lr\n",
            "\n",
            "Epoch 00008: val_loss improved from 0.20112 to 0.20000, saving model to model1.hdf5\n",
            "Epoch 9/20\n",
            "64/64 [==============================] - 1s 14ms/step - loss: 0.1283 - accuracy: 0.9598 - val_loss: 0.2052 - val_accuracy: 0.9311\n",
            "WARNING:tensorflow:Learning rate reduction is conditioned on metric `val_acc` which is not available. Available metrics are: loss,accuracy,val_loss,val_accuracy,lr\n",
            "\n",
            "Epoch 00009: val_loss did not improve from 0.20000\n",
            "Epoch 10/20\n",
            "64/64 [==============================] - 1s 14ms/step - loss: 0.1234 - accuracy: 0.9614 - val_loss: 0.1974 - val_accuracy: 0.9320\n",
            "WARNING:tensorflow:Learning rate reduction is conditioned on metric `val_acc` which is not available. Available metrics are: loss,accuracy,val_loss,val_accuracy,lr\n",
            "\n",
            "Epoch 00010: val_loss improved from 0.20000 to 0.19740, saving model to model1.hdf5\n",
            "Epoch 11/20\n",
            "64/64 [==============================] - 1s 14ms/step - loss: 0.1114 - accuracy: 0.9649 - val_loss: 0.2052 - val_accuracy: 0.9359\n",
            "WARNING:tensorflow:Learning rate reduction is conditioned on metric `val_acc` which is not available. Available metrics are: loss,accuracy,val_loss,val_accuracy,lr\n",
            "\n",
            "Epoch 00011: val_loss did not improve from 0.19740\n",
            "Epoch 12/20\n",
            "64/64 [==============================] - 1s 14ms/step - loss: 0.1037 - accuracy: 0.9672 - val_loss: 0.2029 - val_accuracy: 0.9320\n",
            "WARNING:tensorflow:Learning rate reduction is conditioned on metric `val_acc` which is not available. Available metrics are: loss,accuracy,val_loss,val_accuracy,lr\n",
            "\n",
            "Epoch 00012: val_loss did not improve from 0.19740\n",
            "Epoch 13/20\n",
            "64/64 [==============================] - 1s 14ms/step - loss: 0.0987 - accuracy: 0.9672 - val_loss: 0.1971 - val_accuracy: 0.9325\n",
            "WARNING:tensorflow:Learning rate reduction is conditioned on metric `val_acc` which is not available. Available metrics are: loss,accuracy,val_loss,val_accuracy,lr\n",
            "\n",
            "Epoch 00013: val_loss improved from 0.19740 to 0.19714, saving model to model1.hdf5\n",
            "Epoch 14/20\n",
            "64/64 [==============================] - 1s 14ms/step - loss: 0.0938 - accuracy: 0.9709 - val_loss: 0.2081 - val_accuracy: 0.9345\n",
            "WARNING:tensorflow:Learning rate reduction is conditioned on metric `val_acc` which is not available. Available metrics are: loss,accuracy,val_loss,val_accuracy,lr\n",
            "\n",
            "Epoch 00014: val_loss did not improve from 0.19714\n",
            "Epoch 15/20\n",
            "64/64 [==============================] - 1s 13ms/step - loss: 0.0894 - accuracy: 0.9719 - val_loss: 0.2089 - val_accuracy: 0.9340\n",
            "WARNING:tensorflow:Learning rate reduction is conditioned on metric `val_acc` which is not available. Available metrics are: loss,accuracy,val_loss,val_accuracy,lr\n",
            "\n",
            "Epoch 00015: val_loss did not improve from 0.19714\n",
            "Epoch 16/20\n",
            "64/64 [==============================] - 1s 14ms/step - loss: 0.0837 - accuracy: 0.9727 - val_loss: 0.2022 - val_accuracy: 0.9330\n",
            "WARNING:tensorflow:Learning rate reduction is conditioned on metric `val_acc` which is not available. Available metrics are: loss,accuracy,val_loss,val_accuracy,lr\n",
            "\n",
            "Epoch 00016: val_loss did not improve from 0.19714\n",
            "Epoch 17/20\n",
            "64/64 [==============================] - 1s 14ms/step - loss: 0.0786 - accuracy: 0.9751 - val_loss: 0.2110 - val_accuracy: 0.9330\n",
            "WARNING:tensorflow:Learning rate reduction is conditioned on metric `val_acc` which is not available. Available metrics are: loss,accuracy,val_loss,val_accuracy,lr\n",
            "\n",
            "Epoch 00017: val_loss did not improve from 0.19714\n",
            "Epoch 18/20\n",
            "64/64 [==============================] - 1s 14ms/step - loss: 0.0772 - accuracy: 0.9754 - val_loss: 0.2114 - val_accuracy: 0.9355\n",
            "WARNING:tensorflow:Learning rate reduction is conditioned on metric `val_acc` which is not available. Available metrics are: loss,accuracy,val_loss,val_accuracy,lr\n",
            "\n",
            "Epoch 00018: val_loss did not improve from 0.19714\n",
            "Epoch 19/20\n",
            "64/64 [==============================] - 1s 13ms/step - loss: 0.0748 - accuracy: 0.9759 - val_loss: 0.2079 - val_accuracy: 0.9335\n",
            "WARNING:tensorflow:Learning rate reduction is conditioned on metric `val_acc` which is not available. Available metrics are: loss,accuracy,val_loss,val_accuracy,lr\n",
            "\n",
            "Epoch 00019: val_loss did not improve from 0.19714\n",
            "Epoch 20/20\n",
            "64/64 [==============================] - 1s 14ms/step - loss: 0.0726 - accuracy: 0.9765 - val_loss: 0.2107 - val_accuracy: 0.9325\n",
            "WARNING:tensorflow:Learning rate reduction is conditioned on metric `val_acc` which is not available. Available metrics are: loss,accuracy,val_loss,val_accuracy,lr\n",
            "\n",
            "Epoch 00020: val_loss did not improve from 0.19714\n"
          ],
          "name": "stdout"
        }
      ]
    },
    {
      "cell_type": "markdown",
      "metadata": {
        "id": "iBv21lgqrQpV"
      },
      "source": [
        "###**Zaključak**\n",
        "\n",
        "Zadatak klasifikacije pasa na osnovu slika rešen je procesom transfer learninga-a. Ekstraktovani su feature-i InceptionResNetV2 i InceptionV3 modela, i zatim je izvresena konkatenacija njihovih featura kako bi se dobio konacan model.\n",
        "\n",
        "Klasifikator je postigao zadovoljavajucu tacnost predikcije od 97%.  \n",
        "\n",
        "Modeli se dalje mogu unaprediti koriscenjem K-fold unakrsne validacije koja bi doprinela boljoj evaluaciji modela kao i augmentovanjem seta podataka kako bi model uvecali skup podataka za trening."
      ]
    },
    {
      "cell_type": "code",
      "metadata": {
        "id": "6eDYm0ryy2w_"
      },
      "source": [
        "###**Literatura**\n",
        "\n",
        "Ćulibrk, D. (2012). *Otkrivanje znanja iz podataka: Odabrana poglavlja*. Fort Lauderdale, USA: CreateSpace Independent Publishing Platform. \n",
        "\n",
        "Goodfellow, I. & Bengio Y. & CourvilleClark A. (2016).*Deep Learning*. An MIT Press book. https://doi.https://www.deeplearningbook.org/\n",
        "\n",
        "Stanford University School of Engineering. (2017, August 11). *Lecture 4|Introduction to Neural Networks* [Video]. https://www.youtube.com/watch?v=d14TUNcbn1k\n",
        "\n",
        "Singh, S. (2021, May 21). Adam — latest trends in deep learning optimization. Retrieved from https://towardsdatascience.com/adam-latest-trends-in-deep-learning-optimization-6be9a291375c"
      ],
      "execution_count": null,
      "outputs": []
    },
    {
      "cell_type": "code",
      "metadata": {
        "id": "2A96ouSK07gz"
      },
      "source": [
        ""
      ],
      "execution_count": null,
      "outputs": []
    },
    {
      "cell_type": "markdown",
      "metadata": {
        "id": "_UqRJBuVNd6m"
      },
      "source": [
        "# New Section"
      ]
    }
  ]
}